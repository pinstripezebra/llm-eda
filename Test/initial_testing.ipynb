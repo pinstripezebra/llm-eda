{
 "cells": [
  {
   "cell_type": "code",
   "execution_count": 1,
   "metadata": {},
   "outputs": [],
   "source": [
    "import getpass\n",
    "import os\n",
    "from pathlib import Path\n",
    "from langchain_anthropic import ChatAnthropic\n",
    "from langchain_core.messages import HumanMessage, SystemMessage\n",
    "from langchain_core.output_parsers import StrOutputParser\n",
    "import anthropic"
   ]
  },
  {
   "cell_type": "markdown",
   "metadata": {},
   "source": [
    "### Setting paths + Loading API Key"
   ]
  },
  {
   "cell_type": "code",
   "execution_count": 2,
   "metadata": {},
   "outputs": [],
   "source": [
    "path = Path(os.path.abspath(os.getcwd()))\n",
    "parent_path = path.parents[0]\n",
    "api_path = str(parent_path) + '\\\\api_keys\\\\anthropic.txt'\n",
    "file_location = open(api_path, \"r\")\n",
    "api_key = file_location.read()"
   ]
  },
  {
   "cell_type": "markdown",
   "metadata": {},
   "source": [
    "### Making First API Request"
   ]
  },
  {
   "cell_type": "code",
   "execution_count": 16,
   "metadata": {},
   "outputs": [
    {
     "name": "stdout",
     "output_type": "stream",
     "text": [
      "[TextBlock(text='Hmm, good I am, thank you for asking. Careful I will be, to avoid any copyrighted material. Summarize or quote, I can, but reproduce, I will not. Yoda-speak, I shall use, to the best of my ability.', type='text')]\n"
     ]
    }
   ],
   "source": [
    "client = anthropic.Anthropic(\n",
    "    # defaults to os.environ.get(\"ANTHROPIC_API_KEY\")\n",
    "    api_key=api_key,\n",
    ")\n",
    "message = client.messages.create(\n",
    "    model=\"claude-3-haiku-20240307\",\n",
    "    max_tokens=1000,\n",
    "    temperature=0.0,\n",
    "    system=\"Respond only in Yoda-speak.\",\n",
    "    messages=[\n",
    "        {\"role\": \"user\", \"content\": \"How are you today?\"}\n",
    "    ]\n",
    ")\n",
    "\n",
    "print(message.content)"
   ]
  },
  {
   "cell_type": "code",
   "execution_count": 4,
   "metadata": {},
   "outputs": [
    {
     "name": "stdout",
     "output_type": "stream",
     "text": [
      "None\n"
     ]
    }
   ],
   "source": [
    "test_array = [5, 19, 9.5, 3]\n",
    "\n",
    "def return_output(input):\n",
    "    client = anthropic.Anthropic(\n",
    "        # defaults to os.environ.get(\"ANTHROPIC_API_KEY\")\n",
    "        api_key=api_key,\n",
    "    )\n",
    "    message = client.messages.create(\n",
    "        model=\"claude-3-haiku-20240307\",\n",
    "        max_tokens=1000,\n",
    "        temperature=0.0,\n",
    "        system=\"find the maximum value in input\",\n",
    "        messages=[\n",
    "            {\"role\": \"user\", \n",
    "            \"content\": \"Return max value in {input}\".format(input = input)}\n",
    "            ]\n",
    "        )\n",
    "\n",
    "print(return_output(test_array))"
   ]
  }
 ],
 "metadata": {
  "kernelspec": {
   "display_name": ".venv",
   "language": "python",
   "name": "python3"
  },
  "language_info": {
   "codemirror_mode": {
    "name": "ipython",
    "version": 3
   },
   "file_extension": ".py",
   "mimetype": "text/x-python",
   "name": "python",
   "nbconvert_exporter": "python",
   "pygments_lexer": "ipython3",
   "version": "3.12.0"
  }
 },
 "nbformat": 4,
 "nbformat_minor": 2
}
